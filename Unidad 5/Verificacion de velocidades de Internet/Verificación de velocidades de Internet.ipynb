{
 "cells": [
  {
   "cell_type": "markdown",
   "metadata": {},
   "source": [
    "<img src=\"tecno.jpg\">\n",
    "\n",
    "\n",
    "# Analisis de Datos Masivos\n",
    "## Practica verificación de velocidades de internet\n",
    "\n",
    "\n",
    "## Nombre del Docente\n",
    "### Jose Gabriel Rodriguez Rivas\n",
    "\n",
    "## Nombre del Alumno\n",
    "### Gerardo Jael Esquivel Martinez"
   ]
  },
  {
   "cell_type": "markdown",
   "metadata": {},
   "source": [
    "### Parte 1: Determinar si la velocidad de Internet proporcionada cumple con la establecida en el contrato del proveedor\n",
    "\n",
    "Es probable que, al registrarse a un servicio de Internet, su proveedor se haya comprometido a brindar cierta calidad de servicio. Por ejemplo, es posible que haya recibido una cotización por la velocidad máxima de descarga que se puede alcanzar en su domicilio. La primera parte de esta práctica de laboratorio le permitirá responder la pregunta \"¿es mi conexión a Internet más rápida o más lenta de lo prometido?”"
   ]
  },
  {
   "cell_type": "code",
   "execution_count": 30,
   "metadata": {},
   "outputs": [],
   "source": [
    "import datetime as dt\n",
    "import pandas as pd\n",
    "import numpy as np\n",
    "import sklearn\n",
    "import matplotlib as plt\n",
    "import matplotlib.pyplot as plt\n",
    "import seaborn as sns"
   ]
  },
  {
   "cell_type": "markdown",
   "metadata": {},
   "source": [
    "**Paso 1: Importación y limpieza de datos**\n",
    "\n",
    "El archivo ./Data/rpi_data_compact.csv contiene los datos de velocidad de Internet que necesita para esta práctica de laboratorio. Debe limpiar los datos de velocidad de Internet y guardar el resultado en un nuevo archivo denominado rpi_data_processed.csv."
   ]
  },
  {
   "cell_type": "code",
   "execution_count": 4,
   "metadata": {},
   "outputs": [],
   "source": [
    "datos = pd.read_csv(\"rpi_data_compact.csv\")"
   ]
  },
  {
   "cell_type": "code",
   "execution_count": 5,
   "metadata": {},
   "outputs": [
    {
     "data": {
      "text/html": [
       "<div>\n",
       "<style scoped>\n",
       "    .dataframe tbody tr th:only-of-type {\n",
       "        vertical-align: middle;\n",
       "    }\n",
       "\n",
       "    .dataframe tbody tr th {\n",
       "        vertical-align: top;\n",
       "    }\n",
       "\n",
       "    .dataframe thead th {\n",
       "        text-align: right;\n",
       "    }\n",
       "</style>\n",
       "<table border=\"1\" class=\"dataframe\">\n",
       "  <thead>\n",
       "    <tr style=\"text-align: right;\">\n",
       "      <th></th>\n",
       "      <th>Unnamed: 0</th>\n",
       "      <th>Ping (ms)</th>\n",
       "      <th>Download (Mbit/s)</th>\n",
       "      <th>Upload (Mbit/s)</th>\n",
       "      <th>Date</th>\n",
       "      <th>Time</th>\n",
       "    </tr>\n",
       "  </thead>\n",
       "  <tbody>\n",
       "    <tr>\n",
       "      <th>0</th>\n",
       "      <td>0</td>\n",
       "      <td>26.992</td>\n",
       "      <td>91.80</td>\n",
       "      <td>14.31</td>\n",
       "      <td>2016-11-24</td>\n",
       "      <td>13:36:25</td>\n",
       "    </tr>\n",
       "    <tr>\n",
       "      <th>1</th>\n",
       "      <td>1</td>\n",
       "      <td>24.532</td>\n",
       "      <td>88.19</td>\n",
       "      <td>14.12</td>\n",
       "      <td>2016-11-24</td>\n",
       "      <td>13:36:55</td>\n",
       "    </tr>\n",
       "    <tr>\n",
       "      <th>2</th>\n",
       "      <td>2</td>\n",
       "      <td>20.225</td>\n",
       "      <td>59.86</td>\n",
       "      <td>14.11</td>\n",
       "      <td>2016-11-24</td>\n",
       "      <td>13:37:25</td>\n",
       "    </tr>\n",
       "    <tr>\n",
       "      <th>3</th>\n",
       "      <td>3</td>\n",
       "      <td>19.332</td>\n",
       "      <td>91.81</td>\n",
       "      <td>14.22</td>\n",
       "      <td>2016-11-24</td>\n",
       "      <td>13:37:57</td>\n",
       "    </tr>\n",
       "    <tr>\n",
       "      <th>4</th>\n",
       "      <td>4</td>\n",
       "      <td>22.494</td>\n",
       "      <td>92.05</td>\n",
       "      <td>14.08</td>\n",
       "      <td>2016-11-24</td>\n",
       "      <td>13:38:27</td>\n",
       "    </tr>\n",
       "  </tbody>\n",
       "</table>\n",
       "</div>"
      ],
      "text/plain": [
       "   Unnamed: 0  Ping (ms)  Download (Mbit/s)  Upload (Mbit/s)        Date  \\\n",
       "0           0     26.992              91.80            14.31  2016-11-24   \n",
       "1           1     24.532              88.19            14.12  2016-11-24   \n",
       "2           2     20.225              59.86            14.11  2016-11-24   \n",
       "3           3     19.332              91.81            14.22  2016-11-24   \n",
       "4           4     22.494              92.05            14.08  2016-11-24   \n",
       "\n",
       "       Time  \n",
       "0  13:36:25  \n",
       "1  13:36:55  \n",
       "2  13:37:25  \n",
       "3  13:37:57  \n",
       "4  13:38:27  "
      ]
     },
     "execution_count": 5,
     "metadata": {},
     "output_type": "execute_result"
    }
   ],
   "source": [
    "datos.head()"
   ]
  },
  {
   "cell_type": "markdown",
   "metadata": {},
   "source": [
    "**Elimine la columna de índice adicional**"
   ]
  },
  {
   "cell_type": "code",
   "execution_count": 18,
   "metadata": {},
   "outputs": [],
   "source": [
    "datos.drop('Unnamed: 0', inplace = True, axis=1)"
   ]
  },
  {
   "cell_type": "code",
   "execution_count": 19,
   "metadata": {},
   "outputs": [
    {
     "data": {
      "text/html": [
       "<div>\n",
       "<style scoped>\n",
       "    .dataframe tbody tr th:only-of-type {\n",
       "        vertical-align: middle;\n",
       "    }\n",
       "\n",
       "    .dataframe tbody tr th {\n",
       "        vertical-align: top;\n",
       "    }\n",
       "\n",
       "    .dataframe thead th {\n",
       "        text-align: right;\n",
       "    }\n",
       "</style>\n",
       "<table border=\"1\" class=\"dataframe\">\n",
       "  <thead>\n",
       "    <tr style=\"text-align: right;\">\n",
       "      <th></th>\n",
       "      <th>Ping (ms)</th>\n",
       "      <th>Download (Mbit/s)</th>\n",
       "      <th>Upload (Mbit/s)</th>\n",
       "      <th>Date</th>\n",
       "      <th>Time</th>\n",
       "    </tr>\n",
       "  </thead>\n",
       "  <tbody>\n",
       "    <tr>\n",
       "      <th>0</th>\n",
       "      <td>26.992</td>\n",
       "      <td>91.80</td>\n",
       "      <td>14.31</td>\n",
       "      <td>2016-11-24</td>\n",
       "      <td>13:36:25</td>\n",
       "    </tr>\n",
       "    <tr>\n",
       "      <th>1</th>\n",
       "      <td>24.532</td>\n",
       "      <td>88.19</td>\n",
       "      <td>14.12</td>\n",
       "      <td>2016-11-24</td>\n",
       "      <td>13:36:55</td>\n",
       "    </tr>\n",
       "    <tr>\n",
       "      <th>2</th>\n",
       "      <td>20.225</td>\n",
       "      <td>59.86</td>\n",
       "      <td>14.11</td>\n",
       "      <td>2016-11-24</td>\n",
       "      <td>13:37:25</td>\n",
       "    </tr>\n",
       "    <tr>\n",
       "      <th>3</th>\n",
       "      <td>19.332</td>\n",
       "      <td>91.81</td>\n",
       "      <td>14.22</td>\n",
       "      <td>2016-11-24</td>\n",
       "      <td>13:37:57</td>\n",
       "    </tr>\n",
       "    <tr>\n",
       "      <th>4</th>\n",
       "      <td>22.494</td>\n",
       "      <td>92.05</td>\n",
       "      <td>14.08</td>\n",
       "      <td>2016-11-24</td>\n",
       "      <td>13:38:27</td>\n",
       "    </tr>\n",
       "  </tbody>\n",
       "</table>\n",
       "</div>"
      ],
      "text/plain": [
       "   Ping (ms)  Download (Mbit/s)  Upload (Mbit/s)        Date      Time\n",
       "0     26.992              91.80            14.31  2016-11-24  13:36:25\n",
       "1     24.532              88.19            14.12  2016-11-24  13:36:55\n",
       "2     20.225              59.86            14.11  2016-11-24  13:37:25\n",
       "3     19.332              91.81            14.22  2016-11-24  13:37:57\n",
       "4     22.494              92.05            14.08  2016-11-24  13:38:27"
      ]
     },
     "execution_count": 19,
     "metadata": {},
     "output_type": "execute_result"
    }
   ],
   "source": [
    "datos.head()"
   ]
  },
  {
   "cell_type": "markdown",
   "metadata": {},
   "source": [
    "**Detecte y elimine cualquier valor nulo**"
   ]
  },
  {
   "cell_type": "code",
   "execution_count": 21,
   "metadata": {},
   "outputs": [
    {
     "data": {
      "text/html": [
       "<div>\n",
       "<style scoped>\n",
       "    .dataframe tbody tr th:only-of-type {\n",
       "        vertical-align: middle;\n",
       "    }\n",
       "\n",
       "    .dataframe tbody tr th {\n",
       "        vertical-align: top;\n",
       "    }\n",
       "\n",
       "    .dataframe thead th {\n",
       "        text-align: right;\n",
       "    }\n",
       "</style>\n",
       "<table border=\"1\" class=\"dataframe\">\n",
       "  <thead>\n",
       "    <tr style=\"text-align: right;\">\n",
       "      <th></th>\n",
       "      <th>Ping (ms)</th>\n",
       "      <th>Download (Mbit/s)</th>\n",
       "      <th>Upload (Mbit/s)</th>\n",
       "      <th>Date</th>\n",
       "      <th>Time</th>\n",
       "    </tr>\n",
       "  </thead>\n",
       "  <tbody>\n",
       "    <tr>\n",
       "      <th>0</th>\n",
       "      <td>False</td>\n",
       "      <td>False</td>\n",
       "      <td>False</td>\n",
       "      <td>False</td>\n",
       "      <td>False</td>\n",
       "    </tr>\n",
       "    <tr>\n",
       "      <th>1</th>\n",
       "      <td>False</td>\n",
       "      <td>False</td>\n",
       "      <td>False</td>\n",
       "      <td>False</td>\n",
       "      <td>False</td>\n",
       "    </tr>\n",
       "    <tr>\n",
       "      <th>2</th>\n",
       "      <td>False</td>\n",
       "      <td>False</td>\n",
       "      <td>False</td>\n",
       "      <td>False</td>\n",
       "      <td>False</td>\n",
       "    </tr>\n",
       "    <tr>\n",
       "      <th>3</th>\n",
       "      <td>False</td>\n",
       "      <td>False</td>\n",
       "      <td>False</td>\n",
       "      <td>False</td>\n",
       "      <td>False</td>\n",
       "    </tr>\n",
       "    <tr>\n",
       "      <th>4</th>\n",
       "      <td>False</td>\n",
       "      <td>False</td>\n",
       "      <td>False</td>\n",
       "      <td>False</td>\n",
       "      <td>False</td>\n",
       "    </tr>\n",
       "    <tr>\n",
       "      <th>...</th>\n",
       "      <td>...</td>\n",
       "      <td>...</td>\n",
       "      <td>...</td>\n",
       "      <td>...</td>\n",
       "      <td>...</td>\n",
       "    </tr>\n",
       "    <tr>\n",
       "      <th>668</th>\n",
       "      <td>False</td>\n",
       "      <td>False</td>\n",
       "      <td>False</td>\n",
       "      <td>False</td>\n",
       "      <td>False</td>\n",
       "    </tr>\n",
       "    <tr>\n",
       "      <th>669</th>\n",
       "      <td>False</td>\n",
       "      <td>False</td>\n",
       "      <td>False</td>\n",
       "      <td>False</td>\n",
       "      <td>False</td>\n",
       "    </tr>\n",
       "    <tr>\n",
       "      <th>670</th>\n",
       "      <td>False</td>\n",
       "      <td>False</td>\n",
       "      <td>False</td>\n",
       "      <td>False</td>\n",
       "      <td>False</td>\n",
       "    </tr>\n",
       "    <tr>\n",
       "      <th>671</th>\n",
       "      <td>False</td>\n",
       "      <td>False</td>\n",
       "      <td>False</td>\n",
       "      <td>False</td>\n",
       "      <td>False</td>\n",
       "    </tr>\n",
       "    <tr>\n",
       "      <th>672</th>\n",
       "      <td>False</td>\n",
       "      <td>False</td>\n",
       "      <td>False</td>\n",
       "      <td>False</td>\n",
       "      <td>False</td>\n",
       "    </tr>\n",
       "  </tbody>\n",
       "</table>\n",
       "<p>673 rows × 5 columns</p>\n",
       "</div>"
      ],
      "text/plain": [
       "     Ping (ms)  Download (Mbit/s)  Upload (Mbit/s)   Date   Time\n",
       "0        False              False            False  False  False\n",
       "1        False              False            False  False  False\n",
       "2        False              False            False  False  False\n",
       "3        False              False            False  False  False\n",
       "4        False              False            False  False  False\n",
       "..         ...                ...              ...    ...    ...\n",
       "668      False              False            False  False  False\n",
       "669      False              False            False  False  False\n",
       "670      False              False            False  False  False\n",
       "671      False              False            False  False  False\n",
       "672      False              False            False  False  False\n",
       "\n",
       "[673 rows x 5 columns]"
      ]
     },
     "execution_count": 21,
     "metadata": {},
     "output_type": "execute_result"
    }
   ],
   "source": [
    "datos.isnull()"
   ]
  },
  {
   "cell_type": "code",
   "execution_count": 22,
   "metadata": {},
   "outputs": [
    {
     "data": {
      "text/plain": [
       "0"
      ]
     },
     "execution_count": 22,
     "metadata": {},
     "output_type": "execute_result"
    }
   ],
   "source": [
    "datos.isnull().sum().sum()"
   ]
  },
  {
   "cell_type": "markdown",
   "metadata": {},
   "source": [
    "**Convierta los valores de ping y de descarga en flotantes**"
   ]
  },
  {
   "cell_type": "code",
   "execution_count": 24,
   "metadata": {},
   "outputs": [],
   "source": [
    "datos['Ping (ms)'] = datos['Ping (ms)'].apply(lambda val: float(val))\n",
    "datos['Download (Mbit/s)'] = datos['Download (Mbit/s)'].apply(lambda val: float(val))\n",
    "\n",
    "# Save the new cleaned dataframe to a csv called rpi_data_processed.csv. \n",
    "# Make sure to use 'index=False' so that you do not introduce an additional column"
   ]
  },
  {
   "cell_type": "markdown",
   "metadata": {},
   "source": [
    "**Paso 2: Comprensión de la promesa**\n",
    "\n",
    "Generalmente, su proveedor no prometerá una velocidad de Internet mínima garantizada. Por lo general, deberá especificar sólo la velocidad máxima de Internet que se puede ofrecer en su ubicación. Esto genera la pregunta \"¿Es mi conexión a Internet más rápida o más lentamente de lo prometido?” y evaluar la calidad de servicio se convierte en algo un poco complicado.\n",
    "\n",
    "Las siguientes tareas le permitirán elegir una velocidad de Internet aceptable. Este valor se utilizará entonces para evaluar si su proveedor ofrece un servicio de calidad satisfactoria.\n",
    "\n",
    "Haga una investigación en línea para probar y descubrir qué velocidad de descarga es razonable esperar en su área. Es probable que también desee una velocidad de Internet necesaria para una tarea dada. Por ejemplo, los sitios web de transmisión de medios en línea requieren una velocidad de descarga de al menos 1.5 Mbit/s. Si considera que su contrato con el proveedor de Internet debe permitirle transmitir videos, este valor podría indicar su expectativa mínima.\n",
    "\n",
    "Grafique sus datos y decida un valor para la velocidad de descarga, la velocidad de carga y el tiempo de ping mínimos aceptables. La expectativa mínima que desea también se debe tener en cuenta."
   ]
  },
  {
   "cell_type": "code",
   "execution_count": 36,
   "metadata": {},
   "outputs": [
    {
     "data": {
      "image/png": "[encoded data removed]",
      "text/plain": [
       "<Figure size 720x360 with 1 Axes>"
      ]
     },
     "metadata": {
      "needs_background": "light"
     },
     "output_type": "display_data"
    }
   ],
   "source": [
    "# Plot three curves of different colors\n",
    "fig, ax = plt.subplots(figsize=(10, 5))\n",
    "t = pd.to_datetime(datos['Time'])\n",
    "ax.plot(t, datos['Ping (ms)'], label='Ping (ms)')\n",
    "ax.plot(t, datos['Upload (Mbit/s)'], label='Upload (Mbit/s)')\n",
    "ax.plot(t, datos['Download (Mbit/s)'], label='Download (Mbit/s)')\n",
    "\n",
    "# Insert a legend outside of the main plot\n",
    "ax.legend(bbox_to_anchor=(1.3, 1.))\n",
    "plt.show()"
   ]
  },
  {
   "cell_type": "code",
   "execution_count": 86,
   "metadata": {},
   "outputs": [],
   "source": [
    "# Record the values you consider acceptable in these variables\n",
    "# Examples:\n",
    "acceptable_upload = 14 #Mbit/s\n",
    "acceptable_download = 80 #Mbit/s\n",
    "acceptable_ping = 22 #ms"
   ]
  },
  {
   "cell_type": "markdown",
   "metadata": {},
   "source": [
    "**Paso 3: Comparación con expectativas**\n",
    "\n",
    "Tiene un conjunto de datos limpio y ha especificado los valores aceptables. Esto significa que está listo para iniciar la mayor parte del análisis. Una buena estrategia es comenzar con tareas sencillas y avanzar gradualmente a métodos más avanzados.\n",
    "\n",
    "a) Trace histogramas por velocidad de descarga, velocidad de carga y tiempo de ping. En cada uno de estos gráficos, utilice una línea vertical para indicar el valor que considera aceptable para cada medición."
   ]
  },
  {
   "cell_type": "code",
   "execution_count": 87,
   "metadata": {},
   "outputs": [
    {
     "data": {
      "text/plain": [
       "Text(0.5, 1.0, 'Download (Mbit/s)')"
      ]
     },
     "execution_count": 87,
     "metadata": {},
     "output_type": "execute_result"
    },
    {
     "data": {
      "image/png": "[encoded data removed]",
      "text/plain": [
       "<Figure size 720x720 with 4 Axes>"
      ]
     },
     "metadata": {
      "needs_background": "light"
     },
     "output_type": "display_data"
    }
   ],
   "source": [
    "# Initialize figure\n",
    "fig, ax = plt.subplots(2, 2, figsize=(10, 10))\n",
    "# plot ping speed\n",
    "ax[0][0].hist(datos['Ping (ms)'], 25)\n",
    "# plot acceptable ping \n",
    "ax[0][0].axvline(acceptable_ping, color='red', linewidth=1)\n",
    "ax[0][0].set_title('Ping (ms)', fontsize=16)\n",
    "\n",
    "# plot upload speed\n",
    "ax[0][1].hist(datos['Upload (Mbit/s)'], 25)\n",
    "\n",
    "# plot acceptable upload\n",
    "ax[0][1].axvline(acceptable_upload, color='red', linewidth=1)\n",
    "ax[0][1].set_title('Upload (Mbit/s)', fontsize=16)\n",
    "\n",
    "# plot download speed\n",
    "ax[1][0].hist(datos['Download (Mbit/s)'], 25)\n",
    "\n",
    "# plot acceptable download\n",
    "ax[1][0].axvline(acceptable_download, color='red', linewidth=1)\n",
    "ax[1][0].set_title('Download (Mbit/s)', fontsize=16)"
   ]
  },
  {
   "cell_type": "markdown",
   "metadata": {},
   "source": [
    "**b) Calcule el promedio y la desviación estándar de la velocidad de descarga, la velocidad de carga y el tiempo de ping, y calcule cuántas desviaciones estándar separan a los valores aceptables de los valores promedio.**"
   ]
  },
  {
   "cell_type": "code",
   "execution_count": 88,
   "metadata": {},
   "outputs": [
    {
     "name": "stdout",
     "output_type": "stream",
     "text": [
      "Tiempo medio de ping: 21.115451708766724 ± 5.161225495663228 ms\n",
      "Velocidad de descarga media: 21.115451708766724 ± 5.161225495663228 ms\n",
      "Velocidad de carga media: 21.115451708766724 ± 5.161225495663228 ms\n",
      "Distancia entre la velocidad de ping aceptable y la media: -0.17 desviaciones estandar\n",
      "Distancia entre la velocidad de descarga aceptable y la media: -11.41 desviaciones estandar\n",
      "Distancia entre la velocidad de carga aceptable y la media: 1.38 desviaciones estandar\n"
     ]
    }
   ],
   "source": [
    "# compute the means and the standard deviations of the various measures\n",
    "means = datos.mean()\n",
    "stands = datos.std()\n",
    "\n",
    "# this makes the results look better with labels\n",
    "quote_ping = (means['Ping (ms)'], stands['Ping (ms)'])\n",
    "quote_download = (means['Download (Mbit/s)'], stands['Download (Mbit/s)'])\n",
    "quote_upload = (means['Upload (Mbit/s)'], stands['Upload (Mbit/s)'])\n",
    "\n",
    "# print the results\n",
    "print('Tiempo medio de ping: {} ± {} ms'.format(*quote_ping))\n",
    "print('Velocidad de descarga media: {} ± {} ms'.format(*quote_ping))\n",
    "print('Velocidad de carga media: {} ± {} ms'.format(*quote_ping))\n",
    "# blank line\n",
    "print\n",
    "print('Distancia entre la velocidad de ping aceptable y la media: {:.2f} desviaciones estandar'.format((quote_ping[0]-acceptable_ping)/quote_ping[1]))\n",
    "print('Distancia entre la velocidad de descarga aceptable y la media: {:.2f} desviaciones estandar'.format((quote_ping[0]-acceptable_download)/quote_ping[1]))\n",
    "print('Distancia entre la velocidad de carga aceptable y la media: {:.2f} desviaciones estandar'.format((quote_ping[0]-acceptable_upload)/quote_ping[1]))"
   ]
  },
  {
   "cell_type": "markdown",
   "metadata": {},
   "source": [
    "**C) Calcule el porcentaje de mediciones de velocidad de descarga que no son aceptables. Repita este cálculo para la velocidad de carga y ping.**"
   ]
  },
  {
   "cell_type": "code",
   "execution_count": 90,
   "metadata": {},
   "outputs": [
    {
     "name": "stdout",
     "output_type": "stream",
     "text": [
      "1.93% de las mediciones son inferiores a la velocidad de descarga aceptable.\n",
      "51.26% de las mediciones son inferiores a la velocidad de carga aceptable.\n",
      "78.16% de las mediciones son inferiores al ping aceptable.\n"
     ]
    }
   ],
   "source": [
    "print('{:.2f}% de las mediciones son inferiores a la velocidad de descarga aceptable.'.format(np.sum(datos['Download (Mbit/s)']<acceptable_download)/float(len(datos))*100))\n",
    "\n",
    "print('{:.2f}% de las mediciones son inferiores a la velocidad de carga aceptable.'.format(np.sum(datos['Upload (Mbit/s)']<acceptable_upload)/float(len(datos))*100))\n",
    "\n",
    "print('{:.2f}% de las mediciones son inferiores al ping aceptable.'.format(np.sum(datos['Ping (ms)']<acceptable_ping)/float(len(datos))*100))"
   ]
  },
  {
   "cell_type": "markdown",
   "metadata": {},
   "source": [
    "**d) Busque el porcentaje de mediciones que no satisface sus criterios de servicio aceptable en las tres cantidades.**"
   ]
  },
  {
   "cell_type": "code",
   "execution_count": 92,
   "metadata": {},
   "outputs": [
    {
     "name": "stdout",
     "output_type": "stream",
     "text": [
      "1.04% de las mediciones no son aceptables en los tres casos.\n"
     ]
    }
   ],
   "source": [
    "all_three = np.sum((datos['Ping (ms)']<acceptable_ping) & (datos['Download (Mbit/s)']<acceptable_download) & (datos['Upload (Mbit/s)']<acceptable_upload))\n",
    "print('{:.2f}% de las mediciones no son aceptables en los tres casos.'.format(all_three/float(len(datos))*100))"
   ]
  },
  {
   "cell_type": "markdown",
   "metadata": {},
   "source": [
    "**e) Busque el porcentaje de mediciones que no satisface sus criterios de servicio aceptable en dos de las tres cantidades.**"
   ]
  },
  {
   "cell_type": "code",
   "execution_count": 93,
   "metadata": {},
   "outputs": [
    {
     "name": "stdout",
     "output_type": "stream",
     "text": [
      "37.74% de las mediciones no son aceptables para ping y carga.\n",
      "1.63% de las mediciones no son aceptables para ping y descarga.\n",
      "1.19% de las mediciones no son aceptables para carga y descarga.\n"
     ]
    }
   ],
   "source": [
    "ping_upload = np.sum((datos['Ping (ms)']<acceptable_ping) & (datos['Upload (Mbit/s)']<acceptable_upload))\n",
    "print('{:.2f}% de las mediciones no son aceptables para ping y carga.'.format(ping_upload/float(len(datos))*100))\n",
    "\n",
    "ping_download = np.sum((datos['Ping (ms)']<acceptable_ping) & (datos['Download (Mbit/s)']<acceptable_download))\n",
    "print('{:.2f}% de las mediciones no son aceptables para ping y descarga.'.format(ping_download/float(len(datos))*100))\n",
    "\n",
    "upload_download = np.sum((datos['Upload (Mbit/s)']<acceptable_upload) & (datos['Download (Mbit/s)']<acceptable_download))\n",
    "print('{:.2f}% de las mediciones no son aceptables para carga y descarga.'.format(upload_download/float(len(datos))*100))"
   ]
  },
  {
   "cell_type": "code",
   "execution_count": null,
   "metadata": {},
   "outputs": [],
   "source": []
  }
 ],
 "metadata": {
  "kernelspec": {
   "display_name": "Python 3",
   "language": "python",
   "name": "python3"
  },
  "language_info": {
   "codemirror_mode": {
    "name": "ipython",
    "version": 3
   },
   "file_extension": ".py",
   "mimetype": "text/x-python",
   "name": "python",
   "nbconvert_exporter": "python",
   "pygments_lexer": "ipython3",
   "version": "3.7.6"
  }
 },
 "nbformat": 4,
 "nbformat_minor": 4
}
