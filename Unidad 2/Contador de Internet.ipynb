{
 "cells": [
  {
   "cell_type": "markdown",
   "metadata": {},
   "source": [
    "<img src=\"tecno.jpg\">\n",
    "\n",
    "\n",
    "# Analisis de Datos Masivos\n",
    "## Practica analisis de datos del contador de internet\n",
    "\n",
    "\n",
    "## Nombre del Docente\n",
    "### Jose Gabriel Rodriguez Rivas\n",
    "\n",
    "## Nombre del Alumno\n",
    "### Gerardo Jael Esquivel Martinez\n"
   ]
  },
  {
   "cell_type": "code",
   "execution_count": 11,
   "metadata": {},
   "outputs": [],
   "source": [
    "import datetime\n",
    "import csv\n",
    "import subprocess"
   ]
  },
  {
   "cell_type": "code",
   "execution_count": 12,
   "metadata": {},
   "outputs": [
    {
     "name": "stdout",
     "output_type": "stream",
     "text": [
      "2020-07-22 08:28:19.630757 <class 'datetime.datetime'>\n"
     ]
    }
   ],
   "source": [
    "fecha_hora = datetime.datetime.now()\n",
    "print(fecha_hora, type(fecha_hora))"
   ]
  },
  {
   "cell_type": "code",
   "execution_count": 13,
   "metadata": {},
   "outputs": [
    {
     "data": {
      "text/plain": [
       "'Wed, 22 Jul 2020 08:28:19'"
      ]
     },
     "execution_count": 13,
     "metadata": {},
     "output_type": "execute_result"
    }
   ],
   "source": [
    "fecha_hora.strftime('%a, %d %b %Y %H:%M:%S')"
   ]
  },
  {
   "cell_type": "code",
   "execution_count": 14,
   "metadata": {},
   "outputs": [
    {
     "data": {
      "text/plain": [
       "'2020-07-22 08:28:19'"
      ]
     },
     "execution_count": 14,
     "metadata": {},
     "output_type": "execute_result"
    }
   ],
   "source": [
    "fecha_hora.strftime('%Y-%m-%d %H:%M:%S')"
   ]
  },
  {
   "cell_type": "markdown",
   "metadata": {},
   "source": [
    "El comando **speedtest-cli**, si se ejecuta desde un terminal, **devuelve una cadena con las velocidades de carga y descarga**. Para ejecutar el comando de la computadora portátil, es necesario utilizar el subproceso del módulo de Python, que permite la ejecución de un proceso directamente de las celdas de código de la computadora portátil."
   ]
  },
  {
   "cell_type": "code",
   "execution_count": 15,
   "metadata": {},
   "outputs": [],
   "source": [
    "# This string contains the command line to interface with speedtest.net\n",
    "speedtest_cmd = \"speedtest-cli --simple\"\n",
    "# Execute the process\n",
    "process = subprocess.Popen(speedtest_cmd.split(), stdout=subprocess.PIPE)\n",
    "# Collect the command output\n",
    "process_output = process.communicate()[0]"
   ]
  },
  {
   "cell_type": "code",
   "execution_count": 16,
   "metadata": {},
   "outputs": [
    {
     "name": "stdout",
     "output_type": "stream",
     "text": [
      "b'Ping: 18.201 ms\\r\\nDownload: 29.48 Mbit/s\\r\\nUpload: 9.55 Mbit/s\\r\\n' <class 'bytes'>\n"
     ]
    }
   ],
   "source": [
    "print(process_output, type(process_output))"
   ]
  },
  {
   "cell_type": "code",
   "execution_count": 17,
   "metadata": {},
   "outputs": [
    {
     "name": "stdout",
     "output_type": "stream",
     "text": [
      "[b'Ping:', b'18.201', b'ms', b'Download:', b'29.48', b'Mbit/s', b'Upload:', b'9.55', b'Mbit/s', '2020-07-22 08:29:53'] <class 'list'>\n"
     ]
    }
   ],
   "source": [
    "date_time = datetime.datetime.now().strftime(\"%Y-%m-%d %H:%M:%S\")\n",
    "process_output = process_output.split()\n",
    "process_output.append(date_time)\n",
    "print(process_output, type(process_output))"
   ]
  },
  {
   "cell_type": "code",
   "execution_count": 18,
   "metadata": {},
   "outputs": [],
   "source": [
    "# function to excute the speed test\n",
    "def speedtest():\n",
    "    # We need to store the time at which the speedtest was executed\n",
    "    date_time = datetime.datetime.now().strftime(\"%Y-%m-%d %H:%M:%S\")\n",
    "    # This is a string that contains what we would write on the command line \n",
    "    #to interface with speedtest.net\n",
    "    speedtest_cmd = \"speedtest-cli --simple\"\n",
    "    # We now execute the process: \n",
    "    process = subprocess.Popen(speedtest_cmd.split(), stdout=subprocess.PIPE)\n",
    "    process_output = process.communicate()[0]\n",
    "    process_output = process_output.split()\n",
    "    # and we add the date and time \n",
    "    process_output.append(date_time)\n",
    "    return process_output"
   ]
  },
  {
   "cell_type": "markdown",
   "metadata": {},
   "source": [
    "**¿Qué devuelve la función speedtest()? ¿Cuál es el código para ver resultados de la función speedtest()?**\n",
    "\n",
    "Escriba la respuesta aquí"
   ]
  },
  {
   "cell_type": "code",
   "execution_count": 19,
   "metadata": {},
   "outputs": [
    {
     "data": {
      "text/plain": [
       "[b'Ping:',\n",
       " b'18.18',\n",
       " b'ms',\n",
       " b'Download:',\n",
       " b'30.06',\n",
       " b'Mbit/s',\n",
       " b'Upload:',\n",
       " b'9.80',\n",
       " b'Mbit/s',\n",
       " '2020-07-22 08:29:57']"
      ]
     },
     "execution_count": 19,
     "metadata": {},
     "output_type": "execute_result"
    }
   ],
   "source": [
    "speedtest()"
   ]
  },
  {
   "cell_type": "markdown",
   "metadata": {},
   "source": [
    "**Paso 4: Guarde la salida de la función speedtest().**\n",
    "Los valores separados por comas (csv) son el formato de importación y exportación más común para las hojas de cálculo y las bases de datos. Para obtener más información sobre el trabajo con los csv en Python, navegue a https://docs.python.org/2/library/csv.html."
   ]
  },
  {
   "cell_type": "code",
   "execution_count": 20,
   "metadata": {},
   "outputs": [],
   "source": [
    "with open(\"test.txt\",'w') as f:\n",
    "    f.write('test_msg')"
   ]
  },
  {
   "cell_type": "code",
   "execution_count": 21,
   "metadata": {},
   "outputs": [
    {
     "name": "stdout",
     "output_type": "stream",
     "text": [
      "test_msg\n"
     ]
    }
   ],
   "source": [
    "with open(\"test.txt\",'r') as f:\n",
    "    str = f.read()\n",
    "print(str)"
   ]
  },
  {
   "cell_type": "code",
   "execution_count": 22,
   "metadata": {},
   "outputs": [],
   "source": [
    "# Code cell 14\n",
    "# Function to save data to csv\n",
    "def save_to_csv(data, filename):\n",
    "    try:\n",
    "        # If the file exists, append a new line to it, with the \n",
    "        #results of the current experiment\n",
    "        with open(filename + '.csv', 'a') as f:\n",
    "            # Create a csv writer object \n",
    "            wr = csv.writer(f)\n",
    "            # Save (write) to file\n",
    "            wr.writerow(data)\n",
    "    except:\n",
    "        # If it does not exist, create the file first\n",
    "        with open(filename + '.csv', 'w') as f:\n",
    "            wr = csv-writer(f)\n",
    "            wr.writenow(data)"
   ]
  },
  {
   "cell_type": "markdown",
   "metadata": {},
   "source": [
    "**Paso 5: Verifique los datos recolectados.**\n",
    "\n",
    "Escriba una función para abrir un archivo csv e imprima su contenido en la pantalla. Puede encontrar un ejemplo en la sección 13.1.5 de https://docs.python.org/2/library/csv.html"
   ]
  },
  {
   "cell_type": "code",
   "execution_count": 25,
   "metadata": {},
   "outputs": [],
   "source": [
    "# Code cell 15\n",
    "def print_from_csv(filename): \n",
    "    with open(filename + '.csv', 'r') as f:\n",
    "        re = csv.reader(f)\n",
    "        for row in re:\n",
    "            print(', '.join(row))\n",
    "        "
   ]
  },
  {
   "cell_type": "markdown",
   "metadata": {},
   "source": [
    "**Paso 6: Ejecute varias veces Speedtest y guarde los datos.**"
   ]
  },
  {
   "cell_type": "code",
   "execution_count": 24,
   "metadata": {},
   "outputs": [
    {
     "name": "stdout",
     "output_type": "stream",
     "text": [
      "Test number 0\n",
      "[b'Ping:', b'16.536', b'ms', b'Download:', b'28.78', b'Mbit/s', b'Upload:', b'8.36', b'Mbit/s', '2020-07-22 08:32:03']\n",
      "Test number 1\n",
      "[b'Ping:', b'18.357', b'ms', b'Download:', b'26.31', b'Mbit/s', b'Upload:', b'9.09', b'Mbit/s', '2020-07-22 08:33:27']\n",
      "Test number 2\n",
      "[b'Ping:', b'16.719', b'ms', b'Download:', b'30.22', b'Mbit/s', b'Upload:', b'9.24', b'Mbit/s', '2020-07-22 08:34:50']\n",
      "Test number 3\n",
      "[b'Ping:', b'16.734', b'ms', b'Download:', b'29.74', b'Mbit/s', b'Upload:', b'8.54', b'Mbit/s', '2020-07-22 08:36:14']\n",
      "Test number 4\n",
      "[b'Ping:', b'16.876', b'ms', b'Download:', b'29.61', b'Mbit/s', b'Upload:', b'9.35', b'Mbit/s', '2020-07-22 08:37:38']\n"
     ]
    }
   ],
   "source": [
    "for i in range(5):\n",
    "    # Measure internet speed (speedtest_output) using the speedtest() created earlier\n",
    "    speedtest_output = speedtest()\n",
    "    # Print the test number\n",
    "    print ('Test number {}'.format(i))\n",
    "    # Print the result (The needed variable is speedtest_output)\n",
    "    # ADD CODE HERE for printing the results\n",
    "    print (speedtest_output)\n",
    "    save_to_csv(speedtest_output, 'rpi_data_test')"
   ]
  },
  {
   "cell_type": "code",
   "execution_count": 26,
   "metadata": {},
   "outputs": [
    {
     "name": "stdout",
     "output_type": "stream",
     "text": [
      "b'Ping:', b'16.536', b'ms', b'Download:', b'28.78', b'Mbit/s', b'Upload:', b'8.36', b'Mbit/s', 2020-07-22 08:32:03\n",
      "\n",
      "b'Ping:', b'18.357', b'ms', b'Download:', b'26.31', b'Mbit/s', b'Upload:', b'9.09', b'Mbit/s', 2020-07-22 08:33:27\n",
      "\n",
      "b'Ping:', b'16.719', b'ms', b'Download:', b'30.22', b'Mbit/s', b'Upload:', b'9.24', b'Mbit/s', 2020-07-22 08:34:50\n",
      "\n",
      "b'Ping:', b'16.734', b'ms', b'Download:', b'29.74', b'Mbit/s', b'Upload:', b'8.54', b'Mbit/s', 2020-07-22 08:36:14\n",
      "\n",
      "b'Ping:', b'16.876', b'ms', b'Download:', b'29.61', b'Mbit/s', b'Upload:', b'9.35', b'Mbit/s', 2020-07-22 08:37:38\n",
      "\n"
     ]
    }
   ],
   "source": [
    "print_from_csv('rpi_data_test')"
   ]
  },
  {
   "cell_type": "markdown",
   "metadata": {},
   "source": [
    "Si un conjunto de datos más grande es necesario, speedtest puede ejecutarse en segundo plano para más muestras.\n",
    "\n",
    "**¿Cómo cambiaría el código si quisiera ejecutar el código 100 veces?**\n",
    "\n",
    "Escriba la respuesta aquí\n",
    "\n",
    "for i in range(100):\n",
    "    # Measure internet speed (speedtest_output) using the speedtest() created earlier\n",
    "    speedtest_output = speedtest()\n",
    "    # Print the test number\n",
    "    print ('Test number {}'.format(i))\n",
    "    # Print the result (The needed variable is speedtest_output)\n",
    "    # ADD CODE HERE for printing the results\n",
    "    print (speedtest_output)\n",
    "    save_to_csv(speedtest_output, 'rpi_data_test')"
   ]
  },
  {
   "cell_type": "markdown",
   "metadata": {},
   "source": [
    "### Parte 2:Manipule los datos\n",
    "\n",
    "Los pandas de la biblioteca de Python son muy útiles para trabajar con datos estructurados. La documentación completa se encuentra aquí: http://pandas.pydata.org/pandas-docs/version/0.14.1/</font>\n",
    "\n",
    "Se utilizará un conjunto de datos más grande recopilado de antemano para esta parte de la práctica de laboratorio. El nombre de archivo es rpi_data_long.csv.\n",
    "\n",
    "**Paso 1: Importe las bibliotecas de Python.**"
   ]
  },
  {
   "cell_type": "code",
   "execution_count": 39,
   "metadata": {},
   "outputs": [],
   "source": [
    "import datetime\n",
    "import csv\n",
    "import pandas as pd\n",
    "# NumPy is a library that adds support for large, multi-dimensional arrays and matrices\n",
    "# along with high-level mathematical functions to operate on these arrays\n",
    "import numpy as np"
   ]
  },
  {
   "cell_type": "markdown",
   "metadata": {},
   "source": [
    "**Paso 2: Cargue el archivo csv en un objeto del marco de datos mediante pandas.**"
   ]
  },
  {
   "cell_type": "code",
   "execution_count": 40,
   "metadata": {},
   "outputs": [],
   "source": [
    "data_file = 'rpi_data_long.csv'"
   ]
  },
  {
   "cell_type": "code",
   "execution_count": 41,
   "metadata": {},
   "outputs": [],
   "source": [
    "column_names = [ 'Type A', 'Measure A', 'Units A',\n",
    "                 'Type B', 'Measure B', 'Units B',\n",
    "                 'Type C', 'Measure C', 'Units C', \n",
    "                 'Datetime']"
   ]
  },
  {
   "cell_type": "code",
   "execution_count": 42,
   "metadata": {},
   "outputs": [],
   "source": [
    "with open(data_file, 'r') as f:\n",
    "    df_redundant = pd.read_csv(f, names = column_names)"
   ]
  },
  {
   "cell_type": "code",
   "execution_count": 43,
   "metadata": {},
   "outputs": [
    {
     "data": {
      "text/html": [
       "<div>\n",
       "<style scoped>\n",
       "    .dataframe tbody tr th:only-of-type {\n",
       "        vertical-align: middle;\n",
       "    }\n",
       "\n",
       "    .dataframe tbody tr th {\n",
       "        vertical-align: top;\n",
       "    }\n",
       "\n",
       "    .dataframe thead th {\n",
       "        text-align: right;\n",
       "    }\n",
       "</style>\n",
       "<table border=\"1\" class=\"dataframe\">\n",
       "  <thead>\n",
       "    <tr style=\"text-align: right;\">\n",
       "      <th></th>\n",
       "      <th>Type A</th>\n",
       "      <th>Measure A</th>\n",
       "      <th>Units A</th>\n",
       "      <th>Type B</th>\n",
       "      <th>Measure B</th>\n",
       "      <th>Units B</th>\n",
       "      <th>Type C</th>\n",
       "      <th>Measure C</th>\n",
       "      <th>Units C</th>\n",
       "      <th>Datetime</th>\n",
       "    </tr>\n",
       "  </thead>\n",
       "  <tbody>\n",
       "    <tr>\n",
       "      <th>0</th>\n",
       "      <td>Ping:</td>\n",
       "      <td>26.992</td>\n",
       "      <td>ms</td>\n",
       "      <td>Download:</td>\n",
       "      <td>91.80</td>\n",
       "      <td>Mbit/s</td>\n",
       "      <td>Upload:</td>\n",
       "      <td>14.31</td>\n",
       "      <td>Mbit/s</td>\n",
       "      <td>2016-11-24 13:36:25</td>\n",
       "    </tr>\n",
       "    <tr>\n",
       "      <th>1</th>\n",
       "      <td>Ping:</td>\n",
       "      <td>24.532</td>\n",
       "      <td>ms</td>\n",
       "      <td>Download:</td>\n",
       "      <td>88.19</td>\n",
       "      <td>Mbit/s</td>\n",
       "      <td>Upload:</td>\n",
       "      <td>14.12</td>\n",
       "      <td>Mbit/s</td>\n",
       "      <td>2016-11-24 13:36:55</td>\n",
       "    </tr>\n",
       "    <tr>\n",
       "      <th>2</th>\n",
       "      <td>Ping:</td>\n",
       "      <td>20.225</td>\n",
       "      <td>ms</td>\n",
       "      <td>Download:</td>\n",
       "      <td>59.86</td>\n",
       "      <td>Mbit/s</td>\n",
       "      <td>Upload:</td>\n",
       "      <td>14.11</td>\n",
       "      <td>Mbit/s</td>\n",
       "      <td>2016-11-24 13:37:25</td>\n",
       "    </tr>\n",
       "    <tr>\n",
       "      <th>3</th>\n",
       "      <td>Ping:</td>\n",
       "      <td>19.332</td>\n",
       "      <td>ms</td>\n",
       "      <td>Download:</td>\n",
       "      <td>91.81</td>\n",
       "      <td>Mbit/s</td>\n",
       "      <td>Upload:</td>\n",
       "      <td>14.22</td>\n",
       "      <td>Mbit/s</td>\n",
       "      <td>2016-11-24 13:37:57</td>\n",
       "    </tr>\n",
       "    <tr>\n",
       "      <th>4</th>\n",
       "      <td>Ping:</td>\n",
       "      <td>22.494</td>\n",
       "      <td>ms</td>\n",
       "      <td>Download:</td>\n",
       "      <td>92.05</td>\n",
       "      <td>Mbit/s</td>\n",
       "      <td>Upload:</td>\n",
       "      <td>14.08</td>\n",
       "      <td>Mbit/s</td>\n",
       "      <td>2016-11-24 13:38:27</td>\n",
       "    </tr>\n",
       "  </tbody>\n",
       "</table>\n",
       "</div>"
      ],
      "text/plain": [
       "  Type A  Measure A Units A     Type B  Measure B Units B   Type C  Measure C  \\\n",
       "0  Ping:     26.992      ms  Download:      91.80  Mbit/s  Upload:      14.31   \n",
       "1  Ping:     24.532      ms  Download:      88.19  Mbit/s  Upload:      14.12   \n",
       "2  Ping:     20.225      ms  Download:      59.86  Mbit/s  Upload:      14.11   \n",
       "3  Ping:     19.332      ms  Download:      91.81  Mbit/s  Upload:      14.22   \n",
       "4  Ping:     22.494      ms  Download:      92.05  Mbit/s  Upload:      14.08   \n",
       "\n",
       "  Units C             Datetime  \n",
       "0  Mbit/s  2016-11-24 13:36:25  \n",
       "1  Mbit/s  2016-11-24 13:36:55  \n",
       "2  Mbit/s  2016-11-24 13:37:25  \n",
       "3  Mbit/s  2016-11-24 13:37:57  \n",
       "4  Mbit/s  2016-11-24 13:38:27  "
      ]
     },
     "execution_count": 43,
     "metadata": {},
     "output_type": "execute_result"
    }
   ],
   "source": [
    "df_redundant.head()"
   ]
  },
  {
   "cell_type": "markdown",
   "metadata": {},
   "source": [
    "#### ¿Cuál es el código para leer las primeras 20 líneas del archivo csv?"
   ]
  },
  {
   "cell_type": "code",
   "execution_count": 53,
   "metadata": {},
   "outputs": [
    {
     "data": {
      "text/html": [
       "<div>\n",
       "<style scoped>\n",
       "    .dataframe tbody tr th:only-of-type {\n",
       "        vertical-align: middle;\n",
       "    }\n",
       "\n",
       "    .dataframe tbody tr th {\n",
       "        vertical-align: top;\n",
       "    }\n",
       "\n",
       "    .dataframe thead th {\n",
       "        text-align: right;\n",
       "    }\n",
       "</style>\n",
       "<table border=\"1\" class=\"dataframe\">\n",
       "  <thead>\n",
       "    <tr style=\"text-align: right;\">\n",
       "      <th></th>\n",
       "      <th>Type A</th>\n",
       "      <th>Measure A</th>\n",
       "      <th>Units A</th>\n",
       "      <th>Type B</th>\n",
       "      <th>Measure B</th>\n",
       "      <th>Units B</th>\n",
       "      <th>Type C</th>\n",
       "      <th>Measure C</th>\n",
       "      <th>Units C</th>\n",
       "      <th>Datetime</th>\n",
       "    </tr>\n",
       "  </thead>\n",
       "  <tbody>\n",
       "    <tr>\n",
       "      <th>0</th>\n",
       "      <td>Ping:</td>\n",
       "      <td>26.992</td>\n",
       "      <td>ms</td>\n",
       "      <td>Download:</td>\n",
       "      <td>91.80</td>\n",
       "      <td>Mbit/s</td>\n",
       "      <td>Upload:</td>\n",
       "      <td>14.31</td>\n",
       "      <td>Mbit/s</td>\n",
       "      <td>2016-11-24 13:36:25</td>\n",
       "    </tr>\n",
       "    <tr>\n",
       "      <th>1</th>\n",
       "      <td>Ping:</td>\n",
       "      <td>24.532</td>\n",
       "      <td>ms</td>\n",
       "      <td>Download:</td>\n",
       "      <td>88.19</td>\n",
       "      <td>Mbit/s</td>\n",
       "      <td>Upload:</td>\n",
       "      <td>14.12</td>\n",
       "      <td>Mbit/s</td>\n",
       "      <td>2016-11-24 13:36:55</td>\n",
       "    </tr>\n",
       "    <tr>\n",
       "      <th>2</th>\n",
       "      <td>Ping:</td>\n",
       "      <td>20.225</td>\n",
       "      <td>ms</td>\n",
       "      <td>Download:</td>\n",
       "      <td>59.86</td>\n",
       "      <td>Mbit/s</td>\n",
       "      <td>Upload:</td>\n",
       "      <td>14.11</td>\n",
       "      <td>Mbit/s</td>\n",
       "      <td>2016-11-24 13:37:25</td>\n",
       "    </tr>\n",
       "    <tr>\n",
       "      <th>3</th>\n",
       "      <td>Ping:</td>\n",
       "      <td>19.332</td>\n",
       "      <td>ms</td>\n",
       "      <td>Download:</td>\n",
       "      <td>91.81</td>\n",
       "      <td>Mbit/s</td>\n",
       "      <td>Upload:</td>\n",
       "      <td>14.22</td>\n",
       "      <td>Mbit/s</td>\n",
       "      <td>2016-11-24 13:37:57</td>\n",
       "    </tr>\n",
       "    <tr>\n",
       "      <th>4</th>\n",
       "      <td>Ping:</td>\n",
       "      <td>22.494</td>\n",
       "      <td>ms</td>\n",
       "      <td>Download:</td>\n",
       "      <td>92.05</td>\n",
       "      <td>Mbit/s</td>\n",
       "      <td>Upload:</td>\n",
       "      <td>14.08</td>\n",
       "      <td>Mbit/s</td>\n",
       "      <td>2016-11-24 13:38:27</td>\n",
       "    </tr>\n",
       "    <tr>\n",
       "      <th>5</th>\n",
       "      <td>Ping:</td>\n",
       "      <td>17.586</td>\n",
       "      <td>ms</td>\n",
       "      <td>Download:</td>\n",
       "      <td>91.88</td>\n",
       "      <td>Mbit/s</td>\n",
       "      <td>Upload:</td>\n",
       "      <td>14.18</td>\n",
       "      <td>Mbit/s</td>\n",
       "      <td>2016-11-24 13:39:01</td>\n",
       "    </tr>\n",
       "    <tr>\n",
       "      <th>6</th>\n",
       "      <td>Ping:</td>\n",
       "      <td>21.835</td>\n",
       "      <td>ms</td>\n",
       "      <td>Download:</td>\n",
       "      <td>92.18</td>\n",
       "      <td>Mbit/s</td>\n",
       "      <td>Upload:</td>\n",
       "      <td>14.07</td>\n",
       "      <td>Mbit/s</td>\n",
       "      <td>2016-11-24 13:39:30</td>\n",
       "    </tr>\n",
       "    <tr>\n",
       "      <th>7</th>\n",
       "      <td>Ping:</td>\n",
       "      <td>20.464</td>\n",
       "      <td>ms</td>\n",
       "      <td>Download:</td>\n",
       "      <td>92.05</td>\n",
       "      <td>Mbit/s</td>\n",
       "      <td>Upload:</td>\n",
       "      <td>14.13</td>\n",
       "      <td>Mbit/s</td>\n",
       "      <td>2016-11-24 13:40:00</td>\n",
       "    </tr>\n",
       "    <tr>\n",
       "      <th>8</th>\n",
       "      <td>Ping:</td>\n",
       "      <td>19.293</td>\n",
       "      <td>ms</td>\n",
       "      <td>Download:</td>\n",
       "      <td>90.79</td>\n",
       "      <td>Mbit/s</td>\n",
       "      <td>Upload:</td>\n",
       "      <td>14.14</td>\n",
       "      <td>Mbit/s</td>\n",
       "      <td>2016-11-24 13:40:30</td>\n",
       "    </tr>\n",
       "    <tr>\n",
       "      <th>9</th>\n",
       "      <td>Ping:</td>\n",
       "      <td>20.354</td>\n",
       "      <td>ms</td>\n",
       "      <td>Download:</td>\n",
       "      <td>92.64</td>\n",
       "      <td>Mbit/s</td>\n",
       "      <td>Upload:</td>\n",
       "      <td>14.07</td>\n",
       "      <td>Mbit/s</td>\n",
       "      <td>2016-11-24 13:41:00</td>\n",
       "    </tr>\n",
       "    <tr>\n",
       "      <th>10</th>\n",
       "      <td>Ping:</td>\n",
       "      <td>19.010</td>\n",
       "      <td>ms</td>\n",
       "      <td>Download:</td>\n",
       "      <td>91.86</td>\n",
       "      <td>Mbit/s</td>\n",
       "      <td>Upload:</td>\n",
       "      <td>14.38</td>\n",
       "      <td>Mbit/s</td>\n",
       "      <td>2016-11-24 13:41:30</td>\n",
       "    </tr>\n",
       "    <tr>\n",
       "      <th>11</th>\n",
       "      <td>Ping:</td>\n",
       "      <td>18.092</td>\n",
       "      <td>ms</td>\n",
       "      <td>Download:</td>\n",
       "      <td>92.24</td>\n",
       "      <td>Mbit/s</td>\n",
       "      <td>Upload:</td>\n",
       "      <td>14.23</td>\n",
       "      <td>Mbit/s</td>\n",
       "      <td>2016-11-24 13:42:00</td>\n",
       "    </tr>\n",
       "    <tr>\n",
       "      <th>12</th>\n",
       "      <td>Ping:</td>\n",
       "      <td>18.137</td>\n",
       "      <td>ms</td>\n",
       "      <td>Download:</td>\n",
       "      <td>91.64</td>\n",
       "      <td>Mbit/s</td>\n",
       "      <td>Upload:</td>\n",
       "      <td>14.32</td>\n",
       "      <td>Mbit/s</td>\n",
       "      <td>2016-11-24 13:42:30</td>\n",
       "    </tr>\n",
       "    <tr>\n",
       "      <th>13</th>\n",
       "      <td>Ping:</td>\n",
       "      <td>18.344</td>\n",
       "      <td>ms</td>\n",
       "      <td>Download:</td>\n",
       "      <td>92.85</td>\n",
       "      <td>Mbit/s</td>\n",
       "      <td>Upload:</td>\n",
       "      <td>14.20</td>\n",
       "      <td>Mbit/s</td>\n",
       "      <td>2016-11-24 13:43:00</td>\n",
       "    </tr>\n",
       "    <tr>\n",
       "      <th>14</th>\n",
       "      <td>Ping:</td>\n",
       "      <td>23.328</td>\n",
       "      <td>ms</td>\n",
       "      <td>Download:</td>\n",
       "      <td>92.21</td>\n",
       "      <td>Mbit/s</td>\n",
       "      <td>Upload:</td>\n",
       "      <td>14.20</td>\n",
       "      <td>Mbit/s</td>\n",
       "      <td>2016-11-24 13:43:29</td>\n",
       "    </tr>\n",
       "    <tr>\n",
       "      <th>15</th>\n",
       "      <td>Ping:</td>\n",
       "      <td>17.908</td>\n",
       "      <td>ms</td>\n",
       "      <td>Download:</td>\n",
       "      <td>92.24</td>\n",
       "      <td>Mbit/s</td>\n",
       "      <td>Upload:</td>\n",
       "      <td>11.36</td>\n",
       "      <td>Mbit/s</td>\n",
       "      <td>2016-11-24 13:43:59</td>\n",
       "    </tr>\n",
       "    <tr>\n",
       "      <th>16</th>\n",
       "      <td>Ping:</td>\n",
       "      <td>19.291</td>\n",
       "      <td>ms</td>\n",
       "      <td>Download:</td>\n",
       "      <td>92.41</td>\n",
       "      <td>Mbit/s</td>\n",
       "      <td>Upload:</td>\n",
       "      <td>14.03</td>\n",
       "      <td>Mbit/s</td>\n",
       "      <td>2016-11-24 13:44:31</td>\n",
       "    </tr>\n",
       "    <tr>\n",
       "      <th>17</th>\n",
       "      <td>Ping:</td>\n",
       "      <td>20.117</td>\n",
       "      <td>ms</td>\n",
       "      <td>Download:</td>\n",
       "      <td>90.39</td>\n",
       "      <td>Mbit/s</td>\n",
       "      <td>Upload:</td>\n",
       "      <td>14.17</td>\n",
       "      <td>Mbit/s</td>\n",
       "      <td>2016-11-24 13:45:01</td>\n",
       "    </tr>\n",
       "    <tr>\n",
       "      <th>18</th>\n",
       "      <td>Ping:</td>\n",
       "      <td>19.579</td>\n",
       "      <td>ms</td>\n",
       "      <td>Download:</td>\n",
       "      <td>92.55</td>\n",
       "      <td>Mbit/s</td>\n",
       "      <td>Upload:</td>\n",
       "      <td>14.06</td>\n",
       "      <td>Mbit/s</td>\n",
       "      <td>2016-11-24 13:45:32</td>\n",
       "    </tr>\n",
       "    <tr>\n",
       "      <th>19</th>\n",
       "      <td>Ping:</td>\n",
       "      <td>16.364</td>\n",
       "      <td>ms</td>\n",
       "      <td>Download:</td>\n",
       "      <td>78.51</td>\n",
       "      <td>Mbit/s</td>\n",
       "      <td>Upload:</td>\n",
       "      <td>13.71</td>\n",
       "      <td>Mbit/s</td>\n",
       "      <td>2016-11-24 13:46:02</td>\n",
       "    </tr>\n",
       "  </tbody>\n",
       "</table>\n",
       "</div>"
      ],
      "text/plain": [
       "   Type A  Measure A Units A     Type B  Measure B Units B   Type C  \\\n",
       "0   Ping:     26.992      ms  Download:      91.80  Mbit/s  Upload:   \n",
       "1   Ping:     24.532      ms  Download:      88.19  Mbit/s  Upload:   \n",
       "2   Ping:     20.225      ms  Download:      59.86  Mbit/s  Upload:   \n",
       "3   Ping:     19.332      ms  Download:      91.81  Mbit/s  Upload:   \n",
       "4   Ping:     22.494      ms  Download:      92.05  Mbit/s  Upload:   \n",
       "5   Ping:     17.586      ms  Download:      91.88  Mbit/s  Upload:   \n",
       "6   Ping:     21.835      ms  Download:      92.18  Mbit/s  Upload:   \n",
       "7   Ping:     20.464      ms  Download:      92.05  Mbit/s  Upload:   \n",
       "8   Ping:     19.293      ms  Download:      90.79  Mbit/s  Upload:   \n",
       "9   Ping:     20.354      ms  Download:      92.64  Mbit/s  Upload:   \n",
       "10  Ping:     19.010      ms  Download:      91.86  Mbit/s  Upload:   \n",
       "11  Ping:     18.092      ms  Download:      92.24  Mbit/s  Upload:   \n",
       "12  Ping:     18.137      ms  Download:      91.64  Mbit/s  Upload:   \n",
       "13  Ping:     18.344      ms  Download:      92.85  Mbit/s  Upload:   \n",
       "14  Ping:     23.328      ms  Download:      92.21  Mbit/s  Upload:   \n",
       "15  Ping:     17.908      ms  Download:      92.24  Mbit/s  Upload:   \n",
       "16  Ping:     19.291      ms  Download:      92.41  Mbit/s  Upload:   \n",
       "17  Ping:     20.117      ms  Download:      90.39  Mbit/s  Upload:   \n",
       "18  Ping:     19.579      ms  Download:      92.55  Mbit/s  Upload:   \n",
       "19  Ping:     16.364      ms  Download:      78.51  Mbit/s  Upload:   \n",
       "\n",
       "    Measure C Units C             Datetime  \n",
       "0       14.31  Mbit/s  2016-11-24 13:36:25  \n",
       "1       14.12  Mbit/s  2016-11-24 13:36:55  \n",
       "2       14.11  Mbit/s  2016-11-24 13:37:25  \n",
       "3       14.22  Mbit/s  2016-11-24 13:37:57  \n",
       "4       14.08  Mbit/s  2016-11-24 13:38:27  \n",
       "5       14.18  Mbit/s  2016-11-24 13:39:01  \n",
       "6       14.07  Mbit/s  2016-11-24 13:39:30  \n",
       "7       14.13  Mbit/s  2016-11-24 13:40:00  \n",
       "8       14.14  Mbit/s  2016-11-24 13:40:30  \n",
       "9       14.07  Mbit/s  2016-11-24 13:41:00  \n",
       "10      14.38  Mbit/s  2016-11-24 13:41:30  \n",
       "11      14.23  Mbit/s  2016-11-24 13:42:00  \n",
       "12      14.32  Mbit/s  2016-11-24 13:42:30  \n",
       "13      14.20  Mbit/s  2016-11-24 13:43:00  \n",
       "14      14.20  Mbit/s  2016-11-24 13:43:29  \n",
       "15      11.36  Mbit/s  2016-11-24 13:43:59  \n",
       "16      14.03  Mbit/s  2016-11-24 13:44:31  \n",
       "17      14.17  Mbit/s  2016-11-24 13:45:01  \n",
       "18      14.06  Mbit/s  2016-11-24 13:45:32  \n",
       "19      13.71  Mbit/s  2016-11-24 13:46:02  "
      ]
     },
     "execution_count": 53,
     "metadata": {},
     "output_type": "execute_result"
    }
   ],
   "source": [
    "df_redundant.head(20)"
   ]
  },
  {
   "cell_type": "markdown",
   "metadata": {},
   "source": [
    "**Paso 3: Cree una representación concisa.**\n",
    "\n",
    "En este paso, creará una representación más compacta mediante una copia del marco de datos df_redundant."
   ]
  },
  {
   "cell_type": "code",
   "execution_count": 45,
   "metadata": {},
   "outputs": [],
   "source": [
    "df_compact = df_redundant.copy()"
   ]
  },
  {
   "cell_type": "code",
   "execution_count": 46,
   "metadata": {},
   "outputs": [
    {
     "data": {
      "text/html": [
       "<div>\n",
       "<style scoped>\n",
       "    .dataframe tbody tr th:only-of-type {\n",
       "        vertical-align: middle;\n",
       "    }\n",
       "\n",
       "    .dataframe tbody tr th {\n",
       "        vertical-align: top;\n",
       "    }\n",
       "\n",
       "    .dataframe thead th {\n",
       "        text-align: right;\n",
       "    }\n",
       "</style>\n",
       "<table border=\"1\" class=\"dataframe\">\n",
       "  <thead>\n",
       "    <tr style=\"text-align: right;\">\n",
       "      <th></th>\n",
       "      <th>Type A</th>\n",
       "      <th>Ping (ms)</th>\n",
       "      <th>Units A</th>\n",
       "      <th>Type B</th>\n",
       "      <th>Download (Mbit/s)</th>\n",
       "      <th>Units B</th>\n",
       "      <th>Type C</th>\n",
       "      <th>Upload (Mbit/s)</th>\n",
       "      <th>Units C</th>\n",
       "      <th>Datetime</th>\n",
       "    </tr>\n",
       "  </thead>\n",
       "  <tbody>\n",
       "    <tr>\n",
       "      <th>0</th>\n",
       "      <td>Ping:</td>\n",
       "      <td>26.992</td>\n",
       "      <td>ms</td>\n",
       "      <td>Download:</td>\n",
       "      <td>91.80</td>\n",
       "      <td>Mbit/s</td>\n",
       "      <td>Upload:</td>\n",
       "      <td>14.31</td>\n",
       "      <td>Mbit/s</td>\n",
       "      <td>2016-11-24 13:36:25</td>\n",
       "    </tr>\n",
       "    <tr>\n",
       "      <th>1</th>\n",
       "      <td>Ping:</td>\n",
       "      <td>24.532</td>\n",
       "      <td>ms</td>\n",
       "      <td>Download:</td>\n",
       "      <td>88.19</td>\n",
       "      <td>Mbit/s</td>\n",
       "      <td>Upload:</td>\n",
       "      <td>14.12</td>\n",
       "      <td>Mbit/s</td>\n",
       "      <td>2016-11-24 13:36:55</td>\n",
       "    </tr>\n",
       "    <tr>\n",
       "      <th>2</th>\n",
       "      <td>Ping:</td>\n",
       "      <td>20.225</td>\n",
       "      <td>ms</td>\n",
       "      <td>Download:</td>\n",
       "      <td>59.86</td>\n",
       "      <td>Mbit/s</td>\n",
       "      <td>Upload:</td>\n",
       "      <td>14.11</td>\n",
       "      <td>Mbit/s</td>\n",
       "      <td>2016-11-24 13:37:25</td>\n",
       "    </tr>\n",
       "  </tbody>\n",
       "</table>\n",
       "</div>"
      ],
      "text/plain": [
       "  Type A  Ping (ms) Units A     Type B  Download (Mbit/s) Units B   Type C  \\\n",
       "0  Ping:     26.992      ms  Download:              91.80  Mbit/s  Upload:   \n",
       "1  Ping:     24.532      ms  Download:              88.19  Mbit/s  Upload:   \n",
       "2  Ping:     20.225      ms  Download:              59.86  Mbit/s  Upload:   \n",
       "\n",
       "   Upload (Mbit/s) Units C             Datetime  \n",
       "0            14.31  Mbit/s  2016-11-24 13:36:25  \n",
       "1            14.12  Mbit/s  2016-11-24 13:36:55  \n",
       "2            14.11  Mbit/s  2016-11-24 13:37:25  "
      ]
     },
     "execution_count": 46,
     "metadata": {},
     "output_type": "execute_result"
    }
   ],
   "source": [
    "df_compact.rename(columns={'Measure A':'Ping (ms)', \n",
    "                           'Measure B': 'Download (Mbit/s)',\n",
    "                           'Measure C': 'Upload (Mbit/s)'}, inplace=True)\n",
    "df_compact.head(3)"
   ]
  },
  {
   "cell_type": "code",
   "execution_count": 47,
   "metadata": {},
   "outputs": [
    {
     "data": {
      "text/html": [
       "<div>\n",
       "<style scoped>\n",
       "    .dataframe tbody tr th:only-of-type {\n",
       "        vertical-align: middle;\n",
       "    }\n",
       "\n",
       "    .dataframe tbody tr th {\n",
       "        vertical-align: top;\n",
       "    }\n",
       "\n",
       "    .dataframe thead th {\n",
       "        text-align: right;\n",
       "    }\n",
       "</style>\n",
       "<table border=\"1\" class=\"dataframe\">\n",
       "  <thead>\n",
       "    <tr style=\"text-align: right;\">\n",
       "      <th></th>\n",
       "      <th>Ping (ms)</th>\n",
       "      <th>Download (Mbit/s)</th>\n",
       "      <th>Upload (Mbit/s)</th>\n",
       "      <th>Datetime</th>\n",
       "    </tr>\n",
       "  </thead>\n",
       "  <tbody>\n",
       "    <tr>\n",
       "      <th>0</th>\n",
       "      <td>26.992</td>\n",
       "      <td>91.80</td>\n",
       "      <td>14.31</td>\n",
       "      <td>2016-11-24 13:36:25</td>\n",
       "    </tr>\n",
       "    <tr>\n",
       "      <th>1</th>\n",
       "      <td>24.532</td>\n",
       "      <td>88.19</td>\n",
       "      <td>14.12</td>\n",
       "      <td>2016-11-24 13:36:55</td>\n",
       "    </tr>\n",
       "    <tr>\n",
       "      <th>2</th>\n",
       "      <td>20.225</td>\n",
       "      <td>59.86</td>\n",
       "      <td>14.11</td>\n",
       "      <td>2016-11-24 13:37:25</td>\n",
       "    </tr>\n",
       "    <tr>\n",
       "      <th>3</th>\n",
       "      <td>19.332</td>\n",
       "      <td>91.81</td>\n",
       "      <td>14.22</td>\n",
       "      <td>2016-11-24 13:37:57</td>\n",
       "    </tr>\n",
       "    <tr>\n",
       "      <th>4</th>\n",
       "      <td>22.494</td>\n",
       "      <td>92.05</td>\n",
       "      <td>14.08</td>\n",
       "      <td>2016-11-24 13:38:27</td>\n",
       "    </tr>\n",
       "  </tbody>\n",
       "</table>\n",
       "</div>"
      ],
      "text/plain": [
       "   Ping (ms)  Download (Mbit/s)  Upload (Mbit/s)             Datetime\n",
       "0     26.992              91.80            14.31  2016-11-24 13:36:25\n",
       "1     24.532              88.19            14.12  2016-11-24 13:36:55\n",
       "2     20.225              59.86            14.11  2016-11-24 13:37:25\n",
       "3     19.332              91.81            14.22  2016-11-24 13:37:57\n",
       "4     22.494              92.05            14.08  2016-11-24 13:38:27"
      ]
     },
     "execution_count": 47,
     "metadata": {},
     "output_type": "execute_result"
    }
   ],
   "source": [
    "df_compact.drop(['Type A', 'Type B', 'Type C',\n",
    "         'Units A', 'Units B', 'Units C'], axis=1, inplace=True)\n",
    "df_compact.head()"
   ]
  },
  {
   "cell_type": "markdown",
   "metadata": {},
   "source": [
    "**Paso 4: Separe los datos en dos columnas.**\n",
    "\n",
    "En este paso, utilizará los pandas para generar las columnas Date y Time a partir de la columna Datetime y luego descartará la columna Datetime."
   ]
  },
  {
   "cell_type": "code",
   "execution_count": 48,
   "metadata": {},
   "outputs": [],
   "source": [
    "df_compact['Date'] = df_compact['Datetime'].apply(lambda dt_str: pd.to_datetime(dt_str).date())"
   ]
  },
  {
   "cell_type": "code",
   "execution_count": 49,
   "metadata": {},
   "outputs": [],
   "source": [
    "df_compact['Time'] = df_compact['Datetime'].apply(lambda dt_str: pd.to_datetime(dt_str).time())"
   ]
  },
  {
   "cell_type": "markdown",
   "metadata": {},
   "source": [
    "c) Toda la información de la columna Datetime se ha copiado ahora a las columnas Date y Time. La columna Datetime carece de propósito. La columna Datetime se puede descartar del marco de datos.\n",
    "\n",
    "Ingrese el código para descartar la columna Datetime en la celda a continuación."
   ]
  },
  {
   "cell_type": "code",
   "execution_count": 50,
   "metadata": {},
   "outputs": [
    {
     "data": {
      "text/html": [
       "<div>\n",
       "<style scoped>\n",
       "    .dataframe tbody tr th:only-of-type {\n",
       "        vertical-align: middle;\n",
       "    }\n",
       "\n",
       "    .dataframe tbody tr th {\n",
       "        vertical-align: top;\n",
       "    }\n",
       "\n",
       "    .dataframe thead th {\n",
       "        text-align: right;\n",
       "    }\n",
       "</style>\n",
       "<table border=\"1\" class=\"dataframe\">\n",
       "  <thead>\n",
       "    <tr style=\"text-align: right;\">\n",
       "      <th></th>\n",
       "      <th>Ping (ms)</th>\n",
       "      <th>Download (Mbit/s)</th>\n",
       "      <th>Upload (Mbit/s)</th>\n",
       "      <th>Date</th>\n",
       "      <th>Time</th>\n",
       "    </tr>\n",
       "  </thead>\n",
       "  <tbody>\n",
       "    <tr>\n",
       "      <th>0</th>\n",
       "      <td>26.992</td>\n",
       "      <td>91.80</td>\n",
       "      <td>14.31</td>\n",
       "      <td>2016-11-24</td>\n",
       "      <td>13:36:25</td>\n",
       "    </tr>\n",
       "    <tr>\n",
       "      <th>1</th>\n",
       "      <td>24.532</td>\n",
       "      <td>88.19</td>\n",
       "      <td>14.12</td>\n",
       "      <td>2016-11-24</td>\n",
       "      <td>13:36:55</td>\n",
       "    </tr>\n",
       "    <tr>\n",
       "      <th>2</th>\n",
       "      <td>20.225</td>\n",
       "      <td>59.86</td>\n",
       "      <td>14.11</td>\n",
       "      <td>2016-11-24</td>\n",
       "      <td>13:37:25</td>\n",
       "    </tr>\n",
       "    <tr>\n",
       "      <th>3</th>\n",
       "      <td>19.332</td>\n",
       "      <td>91.81</td>\n",
       "      <td>14.22</td>\n",
       "      <td>2016-11-24</td>\n",
       "      <td>13:37:57</td>\n",
       "    </tr>\n",
       "    <tr>\n",
       "      <th>4</th>\n",
       "      <td>22.494</td>\n",
       "      <td>92.05</td>\n",
       "      <td>14.08</td>\n",
       "      <td>2016-11-24</td>\n",
       "      <td>13:38:27</td>\n",
       "    </tr>\n",
       "  </tbody>\n",
       "</table>\n",
       "</div>"
      ],
      "text/plain": [
       "   Ping (ms)  Download (Mbit/s)  Upload (Mbit/s)        Date      Time\n",
       "0     26.992              91.80            14.31  2016-11-24  13:36:25\n",
       "1     24.532              88.19            14.12  2016-11-24  13:36:55\n",
       "2     20.225              59.86            14.11  2016-11-24  13:37:25\n",
       "3     19.332              91.81            14.22  2016-11-24  13:37:57\n",
       "4     22.494              92.05            14.08  2016-11-24  13:38:27"
      ]
     },
     "execution_count": 50,
     "metadata": {},
     "output_type": "execute_result"
    }
   ],
   "source": [
    "df_compact.drop(['Datetime'], axis=1, inplace=True)\n",
    "df_compact.head()"
   ]
  },
  {
   "cell_type": "code",
   "execution_count": 51,
   "metadata": {},
   "outputs": [
    {
     "name": "stdout",
     "output_type": "stream",
     "text": [
      "2016-11-24 <class 'datetime.date'>\n",
      "13:36:25 <class 'datetime.time'>\n"
     ]
    }
   ],
   "source": [
    "print(df_compact['Date'][0], type(df_compact['Date'][0]) )\n",
    "print(df_compact['Time'][0], type(df_compact['Time'][0]) )"
   ]
  },
  {
   "cell_type": "markdown",
   "metadata": {},
   "source": [
    "**Paso 5: Guarde el nuevo marco de datos.**\n",
    "\n",
    "Guarde el marco de datos de pandas df_compact como un archivo csv en rpi_data_compact.csv."
   ]
  },
  {
   "cell_type": "code",
   "execution_count": 52,
   "metadata": {},
   "outputs": [],
   "source": [
    "df_compact.to_csv('rpi_data_compact.csv')"
   ]
  },
  {
   "cell_type": "code",
   "execution_count": null,
   "metadata": {},
   "outputs": [],
   "source": []
  }
 ],
 "metadata": {
  "kernelspec": {
   "display_name": "Python 3",
   "language": "python",
   "name": "python3"
  },
  "language_info": {
   "codemirror_mode": {
    "name": "ipython",
    "version": 3
   },
   "file_extension": ".py",
   "mimetype": "text/x-python",
   "name": "python",
   "nbconvert_exporter": "python",
   "pygments_lexer": "ipython3",
   "version": "3.7.6"
  }
 },
 "nbformat": 4,
 "nbformat_minor": 4
}
